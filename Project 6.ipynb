{
 "cells": [
  {
   "cell_type": "code",
   "execution_count": 1,
   "id": "ff60d3e1",
   "metadata": {},
   "outputs": [],
   "source": [
    "import requests\n",
    "import csv\n",
    "import pandas as pd"
   ]
  },
  {
   "cell_type": "code",
   "execution_count": 2,
   "id": "77056de5",
   "metadata": {},
   "outputs": [],
   "source": [
    "response = requests.get(\"https://coronavirus.m.pipedream.net/\")\n",
    "corona_data = response.json()"
   ]
  },
  {
   "cell_type": "code",
   "execution_count": 3,
   "id": "4f47760a",
   "metadata": {},
   "outputs": [
    {
     "data": {
      "text/plain": [
       "4016"
      ]
     },
     "execution_count": 3,
     "metadata": {},
     "output_type": "execute_result"
    }
   ],
   "source": [
    "corona_stats = corona_data['rawData']\n",
    "len(corona_stats)"
   ]
  },
  {
   "cell_type": "code",
   "execution_count": 4,
   "id": "4bd276e9",
   "metadata": {},
   "outputs": [
    {
     "data": {
      "text/plain": [
       "{'FIPS': '',\n",
       " 'Admin2': '',\n",
       " 'Province_State': '',\n",
       " 'Country_Region': 'Afghanistan',\n",
       " 'Last_Update': '2023-03-10 04:21:03',\n",
       " 'Lat': '33.93911',\n",
       " 'Long_': '67.709953',\n",
       " 'Confirmed': '209451',\n",
       " 'Deaths': '7896',\n",
       " 'Recovered': '',\n",
       " 'Active': '',\n",
       " 'Combined_Key': 'Afghanistan',\n",
       " 'Incident_Rate': '538.0424508714615',\n",
       " 'Case_Fatality_Ratio': '3.76985547932452'}"
      ]
     },
     "execution_count": 4,
     "metadata": {},
     "output_type": "execute_result"
    }
   ],
   "source": [
    "corona_stats[0]"
   ]
  },
  {
   "cell_type": "code",
   "execution_count": 5,
   "id": "6f0d55d2",
   "metadata": {},
   "outputs": [],
   "source": [
    "with open('corona_stats.csv', 'w', newline='') as f:\n",
    "    writer = csv.DictWriter(f, fieldnames=['Country_Region', 'Confirmed', 'Deaths', 'Incident_Rate', 'Case_Fatality_Ratio'])\n",
    "    writer.writeheader()\n",
    "    for stat in corona_stats:\n",
    "        country_region = stat['Country_Region']\n",
    "        confirmed = stat['Confirmed']\n",
    "        deaths = stat['Deaths']\n",
    "        incident_rate = stat['Incident_Rate']\n",
    "        fatality_ratio = stat['Case_Fatality_Ratio']\n",
    "        \n",
    "        writer.writerow({'Country_Region':country_region, 'Confirmed':confirmed, 'Deaths':deaths, 'Incident_Rate':incident_rate, 'Case_Fatality_Ratio':fatality_ratio})"
   ]
  },
  {
   "cell_type": "code",
   "execution_count": 6,
   "id": "d39a6849",
   "metadata": {},
   "outputs": [
    {
     "data": {
      "text/html": [
       "<div>\n",
       "<style scoped>\n",
       "    .dataframe tbody tr th:only-of-type {\n",
       "        vertical-align: middle;\n",
       "    }\n",
       "\n",
       "    .dataframe tbody tr th {\n",
       "        vertical-align: top;\n",
       "    }\n",
       "\n",
       "    .dataframe thead th {\n",
       "        text-align: right;\n",
       "    }\n",
       "</style>\n",
       "<table border=\"1\" class=\"dataframe\">\n",
       "  <thead>\n",
       "    <tr style=\"text-align: right;\">\n",
       "      <th></th>\n",
       "      <th>Country_Region</th>\n",
       "      <th>Confirmed</th>\n",
       "      <th>Deaths</th>\n",
       "      <th>Incident_Rate</th>\n",
       "      <th>Case_Fatality_Ratio</th>\n",
       "    </tr>\n",
       "  </thead>\n",
       "  <tbody>\n",
       "    <tr>\n",
       "      <th>0</th>\n",
       "      <td>Afghanistan</td>\n",
       "      <td>209451</td>\n",
       "      <td>7896</td>\n",
       "      <td>538.042451</td>\n",
       "      <td>3.769855</td>\n",
       "    </tr>\n",
       "    <tr>\n",
       "      <th>1</th>\n",
       "      <td>Albania</td>\n",
       "      <td>334457</td>\n",
       "      <td>3598</td>\n",
       "      <td>11621.968170</td>\n",
       "      <td>1.075774</td>\n",
       "    </tr>\n",
       "    <tr>\n",
       "      <th>2</th>\n",
       "      <td>Algeria</td>\n",
       "      <td>271496</td>\n",
       "      <td>6881</td>\n",
       "      <td>619.132366</td>\n",
       "      <td>2.534476</td>\n",
       "    </tr>\n",
       "    <tr>\n",
       "      <th>3</th>\n",
       "      <td>Andorra</td>\n",
       "      <td>47890</td>\n",
       "      <td>165</td>\n",
       "      <td>61981.492267</td>\n",
       "      <td>0.344540</td>\n",
       "    </tr>\n",
       "    <tr>\n",
       "      <th>4</th>\n",
       "      <td>Angola</td>\n",
       "      <td>105288</td>\n",
       "      <td>1933</td>\n",
       "      <td>320.352770</td>\n",
       "      <td>1.835917</td>\n",
       "    </tr>\n",
       "    <tr>\n",
       "      <th>...</th>\n",
       "      <td>...</td>\n",
       "      <td>...</td>\n",
       "      <td>...</td>\n",
       "      <td>...</td>\n",
       "      <td>...</td>\n",
       "    </tr>\n",
       "    <tr>\n",
       "      <th>4011</th>\n",
       "      <td>West Bank and Gaza</td>\n",
       "      <td>703228</td>\n",
       "      <td>5708</td>\n",
       "      <td>13784.956961</td>\n",
       "      <td>0.811686</td>\n",
       "    </tr>\n",
       "    <tr>\n",
       "      <th>4012</th>\n",
       "      <td>Winter Olympics 2022</td>\n",
       "      <td>535</td>\n",
       "      <td>0</td>\n",
       "      <td>NaN</td>\n",
       "      <td>0.000000</td>\n",
       "    </tr>\n",
       "    <tr>\n",
       "      <th>4013</th>\n",
       "      <td>Yemen</td>\n",
       "      <td>11945</td>\n",
       "      <td>2159</td>\n",
       "      <td>40.048994</td>\n",
       "      <td>18.074508</td>\n",
       "    </tr>\n",
       "    <tr>\n",
       "      <th>4014</th>\n",
       "      <td>Zambia</td>\n",
       "      <td>343135</td>\n",
       "      <td>4057</td>\n",
       "      <td>1866.491630</td>\n",
       "      <td>1.182333</td>\n",
       "    </tr>\n",
       "    <tr>\n",
       "      <th>4015</th>\n",
       "      <td>Zimbabwe</td>\n",
       "      <td>264276</td>\n",
       "      <td>5671</td>\n",
       "      <td>1778.088529</td>\n",
       "      <td>2.145863</td>\n",
       "    </tr>\n",
       "  </tbody>\n",
       "</table>\n",
       "<p>4016 rows × 5 columns</p>\n",
       "</div>"
      ],
      "text/plain": [
       "            Country_Region  Confirmed  Deaths  Incident_Rate  \\\n",
       "0              Afghanistan     209451    7896     538.042451   \n",
       "1                  Albania     334457    3598   11621.968170   \n",
       "2                  Algeria     271496    6881     619.132366   \n",
       "3                  Andorra      47890     165   61981.492267   \n",
       "4                   Angola     105288    1933     320.352770   \n",
       "...                    ...        ...     ...            ...   \n",
       "4011    West Bank and Gaza     703228    5708   13784.956961   \n",
       "4012  Winter Olympics 2022        535       0            NaN   \n",
       "4013                 Yemen      11945    2159      40.048994   \n",
       "4014                Zambia     343135    4057    1866.491630   \n",
       "4015              Zimbabwe     264276    5671    1778.088529   \n",
       "\n",
       "      Case_Fatality_Ratio  \n",
       "0                3.769855  \n",
       "1                1.075774  \n",
       "2                2.534476  \n",
       "3                0.344540  \n",
       "4                1.835917  \n",
       "...                   ...  \n",
       "4011             0.811686  \n",
       "4012             0.000000  \n",
       "4013            18.074508  \n",
       "4014             1.182333  \n",
       "4015             2.145863  \n",
       "\n",
       "[4016 rows x 5 columns]"
      ]
     },
     "execution_count": 6,
     "metadata": {},
     "output_type": "execute_result"
    }
   ],
   "source": [
    "df = pd.read_csv('corona_stats.csv')\n",
    "df"
   ]
  },
  {
   "cell_type": "code",
   "execution_count": 9,
   "id": "cca68d12",
   "metadata": {},
   "outputs": [
    {
     "data": {
      "text/plain": [
       "38618509"
      ]
     },
     "execution_count": 9,
     "metadata": {},
     "output_type": "execute_result"
    }
   ],
   "source": [
    "df['Confirmed'].max()"
   ]
  },
  {
   "cell_type": "code",
   "execution_count": 7,
   "id": "b2e2a98c",
   "metadata": {},
   "outputs": [
    {
     "data": {
      "text/plain": [
       "1713.5966135458168"
      ]
     },
     "execution_count": 7,
     "metadata": {},
     "output_type": "execute_result"
    }
   ],
   "source": [
    "df['Deaths'].mean()"
   ]
  }
 ],
 "metadata": {
  "kernelspec": {
   "display_name": "Python 3 (ipykernel)",
   "language": "python",
   "name": "python3"
  },
  "language_info": {
   "codemirror_mode": {
    "name": "ipython",
    "version": 3
   },
   "file_extension": ".py",
   "mimetype": "text/x-python",
   "name": "python",
   "nbconvert_exporter": "python",
   "pygments_lexer": "ipython3",
   "version": "3.9.12"
  }
 },
 "nbformat": 4,
 "nbformat_minor": 5
}
